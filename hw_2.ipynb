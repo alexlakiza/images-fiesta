{
 "cells": [
  {
   "cell_type": "code",
   "execution_count": 1,
   "id": "9fb247ce",
   "metadata": {},
   "outputs": [],
   "source": [
    "import numpy as np\n",
    "import tensorflow as tf\n",
    "from tensorflow import keras\n",
    "import matplotlib.pyplot as plt\n",
    "import pandas as pd\n",
    "import cv2\n",
    "import glob\n",
    "from sklearn.model_selection import train_test_split\n",
    "from sklearn.metrics import confusion_matrix"
   ]
  },
  {
   "cell_type": "code",
   "execution_count": 2,
   "id": "433994ed",
   "metadata": {},
   "outputs": [],
   "source": [
    "keras.utils.set_random_seed(42)"
   ]
  },
  {
   "cell_type": "code",
   "execution_count": 3,
   "id": "0c4b6f15",
   "metadata": {},
   "outputs": [
    {
     "data": {
      "text/plain": [
       "10000"
      ]
     },
     "execution_count": 3,
     "metadata": {},
     "output_type": "execute_result"
    }
   ],
   "source": [
    "img_paths = glob.glob(\"dataset/train/*.jpg\")\n",
    "len(img_paths)"
   ]
  },
  {
   "cell_type": "code",
   "execution_count": 4,
   "id": "11dfdae3",
   "metadata": {},
   "outputs": [
    {
     "name": "stdout",
     "output_type": "stream",
     "text": [
      "(26, 47, 3)\n"
     ]
    },
    {
     "data": {
      "text/plain": [
       "<matplotlib.image.AxesImage at 0x28bb08100>"
      ]
     },
     "execution_count": 4,
     "metadata": {},
     "output_type": "execute_result"
    },
    {
     "data": {
      "image/png": "[encoded data removed]",
      "text/plain": [
       "<Figure size 640x480 with 1 Axes>"
      ]
     },
     "metadata": {},
     "output_type": "display_data"
    }
   ],
   "source": [
    "img = cv2.imread(img_paths[20])\n",
    "print(img.shape)\n",
    "plt.imshow(cv2.cvtColor(img, cv2.COLOR_BGR2RGB))"
   ]
  },
  {
   "cell_type": "code",
   "execution_count": 5,
   "id": "c051960e",
   "metadata": {},
   "outputs": [],
   "source": [
    "X_train, X_test = train_test_split(img_paths, train_size=0.8, random_state=42)"
   ]
  },
  {
   "cell_type": "markdown",
   "id": "abdb2e2e-c911-4deb-9b2b-08ff2f1afd32",
   "metadata": {},
   "source": [
    "В рамках экспериментов с трансформациями изображений проводились попытки изменить насыщенность и hue, но в итоге остановился только на обрезе краев изображений"
   ]
  },
  {
   "cell_type": "code",
   "execution_count": 6,
   "id": "182fe801",
   "metadata": {},
   "outputs": [],
   "source": [
    "def load_img(path):\n",
    "    img = tf.io.read_file(path)\n",
    "    img = tf.image.decode_jpeg(img, 3)\n",
    "\n",
    "    height, width = tf.shape(img)[0], tf.shape(img)[1]\n",
    "    crop_percentage = 0.10\n",
    "    crop_height = tf.cast(tf.cast(height, tf.float32) * crop_percentage, tf.int32)\n",
    "    crop_width = tf.cast(tf.cast(width, tf.float32) * crop_percentage, tf.int32)\n",
    "    img = tf.image.crop_to_bounding_box(img, crop_height, crop_width, height - 2 * crop_height, width - 2 * crop_width)\n",
    "\n",
    "    # img = tf.image.random_hue(img, max_delta=0.2, seed=42)  # Adjust the max_delta as needed\n",
    "    # img = tf.image.random_saturation(img, lower=0.5, upper=1.5, seed=42)\n",
    "    \n",
    "    img = tf.image.resize(img,[48, 48])\n",
    "    img = tf.cast(img, tf.float32)\n",
    "    img = img/255\n",
    "    \n",
    "    return img"
   ]
  },
  {
   "cell_type": "code",
   "execution_count": 7,
   "id": "1d2a2ef2",
   "metadata": {},
   "outputs": [
    {
     "name": "stdout",
     "output_type": "stream",
     "text": [
      "8000\n"
     ]
    },
    {
     "name": "stderr",
     "output_type": "stream",
     "text": [
      "2024-01-06 17:24:05.256292: I metal_plugin/src/device/metal_device.cc:1154] Metal device set to: Apple M1 Pro\n",
      "2024-01-06 17:24:05.256316: I metal_plugin/src/device/metal_device.cc:296] systemMemory: 16.00 GB\n",
      "2024-01-06 17:24:05.256340: I metal_plugin/src/device/metal_device.cc:313] maxCacheSize: 5.33 GB\n",
      "2024-01-06 17:24:05.256414: I tensorflow/core/common_runtime/pluggable_device/pluggable_device_factory.cc:306] Could not identify NUMA node of platform GPU ID 0, defaulting to 0. Your kernel may not have been built with NUMA support.\n",
      "2024-01-06 17:24:05.256432: I tensorflow/core/common_runtime/pluggable_device/pluggable_device_factory.cc:272] Created TensorFlow device (/job:localhost/replica:0/task:0/device:GPU:0 with 0 MB memory) -> physical PluggableDevice (device: 0, name: METAL, pci bus id: <undefined>)\n"
     ]
    }
   ],
   "source": [
    "batch_size = 256\n",
    "\n",
    "data_train = tf.data.Dataset.from_tensor_slices(X_train)\n",
    "data_train = data_train.map(load_img)\n",
    "dataset_train = tf.data.Dataset.zip((data_train, data_train))\n",
    "print(len(dataset_train))\n",
    "\n",
    "dataset_train = dataset_train.shuffle(500).batch(batch_size).prefetch(tf.data.experimental.AUTOTUNE)"
   ]
  },
  {
   "cell_type": "code",
   "execution_count": 8,
   "id": "881324a6",
   "metadata": {
    "scrolled": true
   },
   "outputs": [
    {
     "name": "stdout",
     "output_type": "stream",
     "text": [
      "2000\n"
     ]
    }
   ],
   "source": [
    "data_test = tf.data.Dataset.from_tensor_slices(X_test)\n",
    "data_test = data_test.map(load_img)\n",
    "dataset_test = tf.data.Dataset.zip((data_test, data_test))\n",
    "print(len(dataset_test))\n",
    "\n",
    "dataset_test = dataset_test.shuffle(500).batch(batch_size).prefetch(tf.data.experimental.AUTOTUNE)"
   ]
  },
  {
   "cell_type": "code",
   "execution_count": 9,
   "id": "8dfe840c",
   "metadata": {},
   "outputs": [],
   "source": [
    "def load_data(paths):\n",
    "    data = []\n",
    "    for path in paths:\n",
    "        data.append(load_img(path))\n",
    "    return np.asarray(data)"
   ]
  },
  {
   "cell_type": "code",
   "execution_count": 10,
   "id": "9d7690b5",
   "metadata": {},
   "outputs": [
    {
     "data": {
      "text/html": [
       "<div>\n",
       "<style scoped>\n",
       "    .dataframe tbody tr th:only-of-type {\n",
       "        vertical-align: middle;\n",
       "    }\n",
       "\n",
       "    .dataframe tbody tr th {\n",
       "        vertical-align: top;\n",
       "    }\n",
       "\n",
       "    .dataframe thead th {\n",
       "        text-align: right;\n",
       "    }\n",
       "</style>\n",
       "<table border=\"1\" class=\"dataframe\">\n",
       "  <thead>\n",
       "    <tr style=\"text-align: right;\">\n",
       "      <th></th>\n",
       "      <th>img_name</th>\n",
       "      <th>class</th>\n",
       "    </tr>\n",
       "  </thead>\n",
       "  <tbody>\n",
       "    <tr>\n",
       "      <th>0</th>\n",
       "      <td>dataset/test/imgs/b9bc8d6d-0cb6-40c2-a38d-61b4...</td>\n",
       "      <td>0</td>\n",
       "    </tr>\n",
       "    <tr>\n",
       "      <th>1</th>\n",
       "      <td>dataset/test/imgs/9d3893a3-c877-4873-81c5-91aa...</td>\n",
       "      <td>0</td>\n",
       "    </tr>\n",
       "    <tr>\n",
       "      <th>2</th>\n",
       "      <td>dataset/test/imgs/4f5cef60-bf06-4daf-be8d-a36b...</td>\n",
       "      <td>0</td>\n",
       "    </tr>\n",
       "    <tr>\n",
       "      <th>3</th>\n",
       "      <td>dataset/test/imgs/37ee27b2-89a3-4b66-98a4-fb39...</td>\n",
       "      <td>0</td>\n",
       "    </tr>\n",
       "    <tr>\n",
       "      <th>4</th>\n",
       "      <td>dataset/test/imgs/43543d1a-24b6-4018-af56-27fe...</td>\n",
       "      <td>0</td>\n",
       "    </tr>\n",
       "    <tr>\n",
       "      <th>...</th>\n",
       "      <td>...</td>\n",
       "      <td>...</td>\n",
       "    </tr>\n",
       "    <tr>\n",
       "      <th>3789</th>\n",
       "      <td>dataset/test/imgs/00bd95dc-4f01-404b-9f59-1f13...</td>\n",
       "      <td>0</td>\n",
       "    </tr>\n",
       "    <tr>\n",
       "      <th>3790</th>\n",
       "      <td>dataset/test/imgs/09e62c5f-f3bf-4de2-bc76-2e3e...</td>\n",
       "      <td>0</td>\n",
       "    </tr>\n",
       "    <tr>\n",
       "      <th>3791</th>\n",
       "      <td>dataset/test/imgs/e92ab320-3577-424f-8c32-f5df...</td>\n",
       "      <td>0</td>\n",
       "    </tr>\n",
       "    <tr>\n",
       "      <th>3792</th>\n",
       "      <td>dataset/test/imgs/db135776-bf7f-4450-83b9-5cc5...</td>\n",
       "      <td>0</td>\n",
       "    </tr>\n",
       "    <tr>\n",
       "      <th>3793</th>\n",
       "      <td>dataset/test/imgs/38d7d789-822b-4f5a-ba71-7a30...</td>\n",
       "      <td>0</td>\n",
       "    </tr>\n",
       "  </tbody>\n",
       "</table>\n",
       "<p>3794 rows × 2 columns</p>\n",
       "</div>"
      ],
      "text/plain": [
       "                                               img_name  class\n",
       "0     dataset/test/imgs/b9bc8d6d-0cb6-40c2-a38d-61b4...      0\n",
       "1     dataset/test/imgs/9d3893a3-c877-4873-81c5-91aa...      0\n",
       "2     dataset/test/imgs/4f5cef60-bf06-4daf-be8d-a36b...      0\n",
       "3     dataset/test/imgs/37ee27b2-89a3-4b66-98a4-fb39...      0\n",
       "4     dataset/test/imgs/43543d1a-24b6-4018-af56-27fe...      0\n",
       "...                                                 ...    ...\n",
       "3789  dataset/test/imgs/00bd95dc-4f01-404b-9f59-1f13...      0\n",
       "3790  dataset/test/imgs/09e62c5f-f3bf-4de2-bc76-2e3e...      0\n",
       "3791  dataset/test/imgs/e92ab320-3577-424f-8c32-f5df...      0\n",
       "3792  dataset/test/imgs/db135776-bf7f-4450-83b9-5cc5...      0\n",
       "3793  dataset/test/imgs/38d7d789-822b-4f5a-ba71-7a30...      0\n",
       "\n",
       "[3794 rows x 2 columns]"
      ]
     },
     "execution_count": 10,
     "metadata": {},
     "output_type": "execute_result"
    }
   ],
   "source": [
    "df_test = pd.read_csv(\"dataset/test/test_annotation.txt\", sep=' ', names = ['img_name', 'class'])\n",
    "df_test['img_name'] = df_test['img_name'].apply(lambda x: \"dataset/test/imgs/\"+x)\n",
    "test_data = load_data(df_test['img_name'].to_list())\n",
    "df_test"
   ]
  },
  {
   "cell_type": "code",
   "execution_count": 11,
   "id": "55f4b1b4",
   "metadata": {},
   "outputs": [
    {
     "data": {
      "text/plain": [
       "154"
      ]
     },
     "execution_count": 11,
     "metadata": {},
     "output_type": "execute_result"
    }
   ],
   "source": [
    "proliv_paths = glob.glob(\"dataset/proliv/*.jpg\")\n",
    "len(proliv_paths)"
   ]
  },
  {
   "cell_type": "code",
   "execution_count": 12,
   "id": "dd7d0583",
   "metadata": {},
   "outputs": [],
   "source": [
    "data_proliv = load_data(proliv_paths)"
   ]
  },
  {
   "cell_type": "code",
   "execution_count": 13,
   "id": "139efd71",
   "metadata": {},
   "outputs": [
    {
     "name": "stdout",
     "output_type": "stream",
     "text": [
      "Model: \"model\"\n",
      "_________________________________________________________________\n",
      " Layer (type)                Output Shape              Param #   \n",
      "=================================================================\n",
      " input_1 (InputLayer)        [(None, 48, 48, 3)]       0         \n",
      "                                                                 \n",
      " conv2d (Conv2D)             (None, 48, 48, 32)        896       \n",
      "                                                                 \n",
      " conv2d_1 (Conv2D)           (None, 24, 24, 32)        9248      \n",
      "                                                                 \n",
      " conv2d_2 (Conv2D)           (None, 24, 24, 64)        18496     \n",
      "                                                                 \n",
      " conv2d_3 (Conv2D)           (None, 12, 12, 64)        36928     \n",
      "                                                                 \n",
      " conv2d_4 (Conv2D)           (None, 12, 12, 128)       73856     \n",
      "                                                                 \n",
      " conv2d_5 (Conv2D)           (None, 6, 6, 128)         147584    \n",
      "                                                                 \n",
      " conv2d_6 (Conv2D)           (None, 6, 6, 128)         147584    \n",
      "                                                                 \n",
      " up_sampling2d (UpSampling2  (None, 12, 12, 128)       0         \n",
      " D)                                                              \n",
      "                                                                 \n",
      " conv2d_7 (Conv2D)           (None, 12, 12, 64)        73792     \n",
      "                                                                 \n",
      " up_sampling2d_1 (UpSamplin  (None, 24, 24, 64)        0         \n",
      " g2D)                                                            \n",
      "                                                                 \n",
      " conv2d_8 (Conv2D)           (None, 24, 24, 32)        18464     \n",
      "                                                                 \n",
      " up_sampling2d_2 (UpSamplin  (None, 48, 48, 32)        0         \n",
      " g2D)                                                            \n",
      "                                                                 \n",
      " conv2d_9 (Conv2D)           (None, 48, 48, 3)         867       \n",
      "                                                                 \n",
      "=================================================================\n",
      "Total params: 527715 (2.01 MB)\n",
      "Trainable params: 527715 (2.01 MB)\n",
      "Non-trainable params: 0 (0.00 Byte)\n",
      "_________________________________________________________________\n"
     ]
    }
   ],
   "source": [
    "inputs = keras.Input(shape = (48, 48, 3))\n",
    "x = keras.layers.Conv2D(32, (3, 3), padding='same', activation='relu')(inputs)\n",
    "x = keras.layers.Conv2D(32, (3, 3), padding='same', activation='relu', strides=2)(x)\n",
    "x = keras.layers.Conv2D(64, (3, 3), padding='same', activation='relu')(x)\n",
    "x = keras.layers.Conv2D(64, (3, 3), padding='same', activation='relu', strides=2)(x)\n",
    "x = keras.layers.Conv2D(128, (3, 3), padding='same')(x)\n",
    "x = keras.layers.Conv2D(128, (3, 3), padding='same', strides=2)(x)\n",
    "x = keras.layers.Conv2D(128, (3, 3), padding='same')(x)\n",
    "x = keras.layers.UpSampling2D(2)(x)\n",
    "x = keras.layers.Conv2D(64, (3, 3), padding='same')(x)\n",
    "x = keras.layers.UpSampling2D(2)(x)\n",
    "x = keras.layers.Conv2D(32, (3, 3), padding='same')(x)\n",
    "x = keras.layers.UpSampling2D(2)(x)\n",
    "outputs = keras.layers.Conv2D(3, (3, 3), padding='same', activation = 'sigmoid')(x)\n",
    "model_1 = keras.Model(inputs, outputs)\n",
    "model_1.summary()"
   ]
  },
  {
   "cell_type": "code",
   "execution_count": 14,
   "id": "dd7fba7b",
   "metadata": {},
   "outputs": [],
   "source": [
    "model_1.compile(optimizer=\"Adam\", loss=\"mse\")"
   ]
  },
  {
   "cell_type": "code",
   "execution_count": 57,
   "id": "df6e3a6b",
   "metadata": {},
   "outputs": [
    {
     "name": "stdout",
     "output_type": "stream",
     "text": [
      "Epoch 1/10\n",
      "32/32 [==============================] - 4s 125ms/step - loss: 4.7243e-04 - val_loss: 3.6488e-04\n",
      "Epoch 2/10\n",
      "32/32 [==============================] - 4s 124ms/step - loss: 3.5841e-04 - val_loss: 3.4631e-04\n",
      "Epoch 3/10\n",
      "32/32 [==============================] - 4s 124ms/step - loss: 3.4150e-04 - val_loss: 3.1642e-04\n",
      "Epoch 4/10\n",
      "32/32 [==============================] - 4s 123ms/step - loss: 3.0834e-04 - val_loss: 2.5904e-04\n",
      "Epoch 5/10\n",
      "32/32 [==============================] - 4s 124ms/step - loss: 3.9280e-04 - val_loss: 3.4661e-04\n",
      "Epoch 6/10\n",
      "32/32 [==============================] - 4s 125ms/step - loss: 3.1423e-04 - val_loss: 2.5619e-04\n",
      "Epoch 7/10\n",
      "32/32 [==============================] - 4s 124ms/step - loss: 2.4773e-04 - val_loss: 2.3025e-04\n",
      "Epoch 8/10\n",
      "32/32 [==============================] - 4s 125ms/step - loss: 2.2905e-04 - val_loss: 2.0419e-04\n",
      "Epoch 9/10\n",
      "32/32 [==============================] - 4s 125ms/step - loss: 2.2187e-04 - val_loss: 2.3911e-04\n",
      "Epoch 10/10\n",
      "32/32 [==============================] - 4s 124ms/step - loss: 1.9159e-04 - val_loss: 2.3448e-04\n"
     ]
    }
   ],
   "source": [
    "hist = model_1.fit(dataset_train, \n",
    "                   epochs=10, \n",
    "                   validation_data=dataset_test, \n",
    "                   callbacks=tf.keras.callbacks.TensorBoard(log_dir='logs/exp1'))"
   ]
  },
  {
   "cell_type": "code",
   "execution_count": 58,
   "id": "5fa50e2f",
   "metadata": {},
   "outputs": [
    {
     "name": "stdout",
     "output_type": "stream",
     "text": [
      "8/8 [==============================] - 0s 37ms/step - loss: 2.3448e-04\n"
     ]
    },
    {
     "data": {
      "text/plain": [
       "0.00023447777493856847"
      ]
     },
     "execution_count": 58,
     "metadata": {},
     "output_type": "execute_result"
    }
   ],
   "source": [
    "model_1.evaluate(dataset_test)"
   ]
  },
  {
   "cell_type": "code",
   "execution_count": 59,
   "id": "d0771e66",
   "metadata": {},
   "outputs": [
    {
     "data": {
      "text/plain": [
       "<Axes: >"
      ]
     },
     "execution_count": 59,
     "metadata": {},
     "output_type": "execute_result"
    },
    {
     "data": {
      "image/png": "[encoded data removed]",
      "text/plain": [
       "<Figure size 640x480 with 1 Axes>"
      ]
     },
     "metadata": {},
     "output_type": "display_data"
    }
   ],
   "source": [
    "#График изменения функции потерь\n",
    "history_df = pd.DataFrame(hist.history)\n",
    "history_df.loc[:, ['loss', 'val_loss']].plot()"
   ]
  },
  {
   "cell_type": "code",
   "execution_count": 60,
   "id": "49cf0fec",
   "metadata": {},
   "outputs": [
    {
     "name": "stdout",
     "output_type": "stream",
     "text": [
      "1/1 [==============================] - 0s 16ms/step\n"
     ]
    },
    {
     "data": {
      "text/plain": [
       "[[], []]"
      ]
     },
     "execution_count": 60,
     "metadata": {},
     "output_type": "execute_result"
    },
    {
     "data": {
      "image/png": "[encoded data removed]",
      "text/plain": [
       "<Figure size 640x480 with 2 Axes>"
      ]
     },
     "metadata": {},
     "output_type": "display_data"
    }
   ],
   "source": [
    "img = np.expand_dims(load_img(X_train[10]), axis=0)\n",
    "res_img = model_1.predict(img)\n",
    "\n",
    "fig, axs = plt.subplots(1, 2)\n",
    "axs[0].imshow(img[0])\n",
    "axs[0].set_title('Original_img')\n",
    "axs[0].set(xticks=[], yticks=[])\n",
    "axs[1].imshow(res_img[0])\n",
    "axs[1].set_title('Processed_img')\n",
    "axs[1].set(xticks=[], yticks=[])"
   ]
  },
  {
   "cell_type": "code",
   "execution_count": 61,
   "id": "62683885",
   "metadata": {
    "scrolled": true
   },
   "outputs": [
    {
     "data": {
      "text/plain": [
       "154"
      ]
     },
     "execution_count": 61,
     "metadata": {},
     "output_type": "execute_result"
    }
   ],
   "source": [
    "proliv_paths = glob.glob(\"dataset/proliv/*.jpg\")\n",
    "len(proliv_paths)"
   ]
  },
  {
   "cell_type": "code",
   "execution_count": 62,
   "id": "2e47b8b4",
   "metadata": {},
   "outputs": [
    {
     "name": "stdout",
     "output_type": "stream",
     "text": [
      "1/1 [==============================] - 0s 16ms/step\n",
      "MSE = 0.0014231220120564103\n"
     ]
    },
    {
     "data": {
      "image/png": "[encoded data removed]",
      "text/plain": [
       "<Figure size 640x480 with 2 Axes>"
      ]
     },
     "metadata": {},
     "output_type": "display_data"
    }
   ],
   "source": [
    "proliv_img = np.expand_dims(load_img(proliv_paths[130]), axis=0)\n",
    "res_proliv = model_1.predict(proliv_img)\n",
    "\n",
    "fig, axs = plt.subplots(1, 2)\n",
    "axs[0].imshow(proliv_img[0])\n",
    "axs[0].set_title('Original_img')\n",
    "axs[0].set(xticks=[], yticks=[])\n",
    "axs[1].imshow(res_proliv[0])\n",
    "axs[1].set_title('Processed_img')\n",
    "axs[1].set(xticks=[], yticks=[])\n",
    "print(f\"MSE = {np.mean(np.square(proliv_img-res_proliv))}\")"
   ]
  },
  {
   "cell_type": "markdown",
   "id": "ece18bec",
   "metadata": {},
   "source": [
    "## 2 способа поиска оптимального порога\n",
    "\n",
    "- через дерево решений\n",
    "- через ROC-кривую\n"
   ]
  },
  {
   "cell_type": "code",
   "execution_count": 63,
   "id": "0bb06104",
   "metadata": {},
   "outputs": [
    {
     "name": "stdout",
     "output_type": "stream",
     "text": [
      "5/5 [==============================] - 0s 10ms/step\n"
     ]
    }
   ],
   "source": [
    "data_proliv = load_data(proliv_paths)\n",
    "proliv_res = model_1.predict(data_proliv)"
   ]
  },
  {
   "cell_type": "code",
   "execution_count": 64,
   "id": "4d842927",
   "metadata": {},
   "outputs": [
    {
     "name": "stdout",
     "output_type": "stream",
     "text": [
      "0.001470353\n"
     ]
    }
   ],
   "source": [
    "mse_list = []\n",
    "for i in range(len(proliv_res)):\n",
    "    mse_list.append(np.mean(np.square(data_proliv[i]-proliv_res[i])))\n",
    "mse = np.mean(mse_list)\n",
    "print(mse)"
   ]
  },
  {
   "cell_type": "code",
   "execution_count": 66,
   "id": "e0a2d874",
   "metadata": {},
   "outputs": [
    {
     "name": "stdout",
     "output_type": "stream",
     "text": [
      "0.0002330113\n"
     ]
    }
   ],
   "source": [
    "orig_imgs = load_data(img_paths[:1000])\n",
    "mse_list_orig = []\n",
    "for i in range(len(orig_imgs)):\n",
    "    mse_list_orig.append(np.mean(np.square(orig_imgs[i]-model_1.predict(np.expand_dims(orig_imgs[i], \n",
    "                                                                                  axis=0), \n",
    "                                                                   verbose=0))))\n",
    "mse = np.mean(mse_list_orig)\n",
    "print(mse)"
   ]
  },
  {
   "cell_type": "code",
   "execution_count": 67,
   "id": "85bc9f2b",
   "metadata": {},
   "outputs": [],
   "source": [
    "orig_data = pd.DataFrame({'mse':mse_list_orig, 'class': [0 for _ in range(len(mse_list_orig))]}, \n",
    "             columns=['mse', 'class'])\n",
    "proliv_data = pd.DataFrame({'mse':mse_list, 'class': [1 for _ in range(len(mse_list))]}, \n",
    "             columns=['mse', 'class'])\n",
    "mse_data = pd.concat([orig_data, proliv_data], axis = 0, ignore_index=True)"
   ]
  },
  {
   "cell_type": "code",
   "execution_count": 68,
   "id": "7a532076",
   "metadata": {},
   "outputs": [
    {
     "data": {
      "text/html": [
       "<div>\n",
       "<style scoped>\n",
       "    .dataframe tbody tr th:only-of-type {\n",
       "        vertical-align: middle;\n",
       "    }\n",
       "\n",
       "    .dataframe tbody tr th {\n",
       "        vertical-align: top;\n",
       "    }\n",
       "\n",
       "    .dataframe thead th {\n",
       "        text-align: right;\n",
       "    }\n",
       "</style>\n",
       "<table border=\"1\" class=\"dataframe\">\n",
       "  <thead>\n",
       "    <tr style=\"text-align: right;\">\n",
       "      <th></th>\n",
       "      <th>mse</th>\n",
       "      <th>class</th>\n",
       "    </tr>\n",
       "  </thead>\n",
       "  <tbody>\n",
       "    <tr>\n",
       "      <th>0</th>\n",
       "      <td>0.000240</td>\n",
       "      <td>0</td>\n",
       "    </tr>\n",
       "    <tr>\n",
       "      <th>1</th>\n",
       "      <td>0.000197</td>\n",
       "      <td>0</td>\n",
       "    </tr>\n",
       "    <tr>\n",
       "      <th>2</th>\n",
       "      <td>0.000199</td>\n",
       "      <td>0</td>\n",
       "    </tr>\n",
       "    <tr>\n",
       "      <th>3</th>\n",
       "      <td>0.000247</td>\n",
       "      <td>0</td>\n",
       "    </tr>\n",
       "    <tr>\n",
       "      <th>4</th>\n",
       "      <td>0.000220</td>\n",
       "      <td>0</td>\n",
       "    </tr>\n",
       "    <tr>\n",
       "      <th>...</th>\n",
       "      <td>...</td>\n",
       "      <td>...</td>\n",
       "    </tr>\n",
       "    <tr>\n",
       "      <th>1149</th>\n",
       "      <td>0.001184</td>\n",
       "      <td>1</td>\n",
       "    </tr>\n",
       "    <tr>\n",
       "      <th>1150</th>\n",
       "      <td>0.001741</td>\n",
       "      <td>1</td>\n",
       "    </tr>\n",
       "    <tr>\n",
       "      <th>1151</th>\n",
       "      <td>0.000945</td>\n",
       "      <td>1</td>\n",
       "    </tr>\n",
       "    <tr>\n",
       "      <th>1152</th>\n",
       "      <td>0.002362</td>\n",
       "      <td>1</td>\n",
       "    </tr>\n",
       "    <tr>\n",
       "      <th>1153</th>\n",
       "      <td>0.001977</td>\n",
       "      <td>1</td>\n",
       "    </tr>\n",
       "  </tbody>\n",
       "</table>\n",
       "<p>1154 rows × 2 columns</p>\n",
       "</div>"
      ],
      "text/plain": [
       "           mse  class\n",
       "0     0.000240      0\n",
       "1     0.000197      0\n",
       "2     0.000199      0\n",
       "3     0.000247      0\n",
       "4     0.000220      0\n",
       "...        ...    ...\n",
       "1149  0.001184      1\n",
       "1150  0.001741      1\n",
       "1151  0.000945      1\n",
       "1152  0.002362      1\n",
       "1153  0.001977      1\n",
       "\n",
       "[1154 rows x 2 columns]"
      ]
     },
     "execution_count": 68,
     "metadata": {},
     "output_type": "execute_result"
    }
   ],
   "source": [
    "mse_data"
   ]
  },
  {
   "cell_type": "code",
   "execution_count": 69,
   "id": "184e75d9-0cb6-4f68-8c0c-74d7a1680191",
   "metadata": {},
   "outputs": [],
   "source": [
    "mse_data['mse'] *= 100"
   ]
  },
  {
   "cell_type": "code",
   "execution_count": 70,
   "id": "5e4c9ec3",
   "metadata": {},
   "outputs": [],
   "source": [
    "from sklearn.tree import DecisionTreeClassifier\n",
    "from sklearn import tree\n",
    "model_tree = DecisionTreeClassifier(max_depth=1, criterion='gini').fit(mse_data.drop(columns='class'), mse_data['class'])"
   ]
  },
  {
   "cell_type": "markdown",
   "id": "3827f5cd-d522-42b6-8b80-383c91339070",
   "metadata": {},
   "source": [
    "Поиск порога через дерево решений"
   ]
  },
  {
   "cell_type": "code",
   "execution_count": 71,
   "id": "245337fa",
   "metadata": {},
   "outputs": [
    {
     "data": {
      "image/png": "[encoded data removed]",
      "text/plain": [
       "<Figure size 1000x1000 with 1 Axes>"
      ]
     },
     "metadata": {},
     "output_type": "display_data"
    }
   ],
   "source": [
    "fig = plt.figure(figsize=(10, 10))\n",
    "_ = tree.plot_tree(model_tree, feature_names=['mse'], filled=True)"
   ]
  },
  {
   "cell_type": "code",
   "execution_count": 72,
   "id": "86370fa6",
   "metadata": {},
   "outputs": [
    {
     "data": {
      "text/plain": [
       "0.00058"
      ]
     },
     "execution_count": 72,
     "metadata": {},
     "output_type": "execute_result"
    }
   ],
   "source": [
    "threshold = 0.058 / 100\n",
    "threshold"
   ]
  },
  {
   "cell_type": "markdown",
   "id": "04743801-8c4f-44a7-8611-56c04c8a21b1",
   "metadata": {},
   "source": [
    "Поиск порога через ROC-кривую"
   ]
  },
  {
   "cell_type": "code",
   "execution_count": 73,
   "id": "c04908ee",
   "metadata": {},
   "outputs": [
    {
     "name": "stdout",
     "output_type": "stream",
     "text": [
      "119/119 [==============================] - 1s 10ms/step\n"
     ]
    }
   ],
   "source": [
    "preds = model_1.predict(test_data)"
   ]
  },
  {
   "cell_type": "code",
   "execution_count": 89,
   "id": "c19214c3-f515-4349-a374-67a5e688dc55",
   "metadata": {},
   "outputs": [
    {
     "name": "stdout",
     "output_type": "stream",
     "text": [
      "0.0007636979\n"
     ]
    }
   ],
   "source": [
    "from sklearn.metrics import roc_curve, auc\n",
    "\n",
    "def find_optimal_cutoff(test_labels, test_scores):\n",
    "    fpr, tpr, thresholds = roc_curve(test_labels, test_scores)\n",
    "    optimal_idx = np.argmax(tpr - fpr)\n",
    "    optimal_threshold = thresholds[optimal_idx]\n",
    "    return optimal_threshold\n",
    "\n",
    "mse_list = []\n",
    "\n",
    "for i in range(len(test_data)):\n",
    "    mse_list.append(np.mean(np.square(test_data[i]-preds[i])))\n",
    "\n",
    "optimal_threshold = find_optimal_cutoff(df_test['class'], mse_list)\n",
    "print(optimal_threshold)"
   ]
  },
  {
   "cell_type": "markdown",
   "id": "81a7fb8c",
   "metadata": {},
   "source": [
    "## Финальный расчет"
   ]
  },
  {
   "cell_type": "code",
   "execution_count": 90,
   "id": "f86060b5",
   "metadata": {},
   "outputs": [],
   "source": [
    "def get_preds(imgs, preds, threshold=0.1):\n",
    "    labels = []\n",
    "    for i in range(len(preds)):\n",
    "        mse = np.mean(np.square(imgs[i]-preds[i]))\n",
    "        if mse < threshold:\n",
    "            labels.append(0)\n",
    "        else: \n",
    "            labels.append(1)\n",
    "    return np.asarray(labels)"
   ]
  },
  {
   "cell_type": "code",
   "execution_count": 91,
   "id": "71bb6f85",
   "metadata": {},
   "outputs": [
    {
     "name": "stdout",
     "output_type": "stream",
     "text": [
      "TPR = 0.7906976744186046, TNR = 0.9852660300136425, threshold = 0.0007636978989467025\n"
     ]
    }
   ],
   "source": [
    "tn, fp, fn, tp = confusion_matrix(df_test['class'], get_preds(test_data, preds, threshold=optimal_threshold)).ravel()\n",
    "print(\"TPR = {}, TNR = {}, threshold = {}\".format(tp/(tp+fn), tn/(tn+fp), optimal_threshold))"
   ]
  },
  {
   "cell_type": "code",
   "execution_count": 92,
   "id": "27c8c753-06d5-49d5-831e-bbd2d8ca272c",
   "metadata": {},
   "outputs": [
    {
     "name": "stdout",
     "output_type": "stream",
     "text": [
      "TPR = 0.9122807017543859, TNR = 0.9238744884038199, threshold = 0.00058\n"
     ]
    }
   ],
   "source": [
    "tn, fp, fn, tp = confusion_matrix(df_test['class'], get_preds(test_data, preds, threshold=threshold)).ravel()\n",
    "print(\"TPR = {}, TNR = {}, threshold = {}\".format(tp/(tp+fn), tn/(tn+fp), threshold))"
   ]
  },
  {
   "cell_type": "code",
   "execution_count": 93,
   "id": "321bcf85",
   "metadata": {},
   "outputs": [],
   "source": [
    "model_1.save(\"Models/hw_2.keras\")"
   ]
  },
  {
   "cell_type": "markdown",
   "id": "9b7e14f6-be63-4adf-8b0f-fda5ce036bd0",
   "metadata": {},
   "source": [
    "Один из способов поиска порога сумел дать необходимый результат  \n",
    "`TPR` = 0.912   \n",
    "`TNR` = 0.924"
   ]
  },
  {
   "cell_type": "code",
   "execution_count": null,
   "id": "51a7d13e-b78d-4084-9f41-342a1163c017",
   "metadata": {},
   "outputs": [],
   "source": []
  }
 ],
 "metadata": {
  "kernelspec": {
   "display_name": "Python 3 (ipykernel)",
   "language": "python",
   "name": "python3"
  },
  "language_info": {
   "codemirror_mode": {
    "name": "ipython",
    "version": 3
   },
   "file_extension": ".py",
   "mimetype": "text/x-python",
   "name": "python",
   "nbconvert_exporter": "python",
   "pygments_lexer": "ipython3",
   "version": "3.10.8"
  }
 },
 "nbformat": 4,
 "nbformat_minor": 5
}
